{
 "cells": [
  {
   "cell_type": "code",
   "execution_count": 1,
   "id": "60bbf0b1-5aa7-45b9-98bf-a8e189be9a3c",
   "metadata": {},
   "outputs": [
    {
     "name": "stdout",
     "output_type": "stream",
     "text": [
      "DOI numbers found in the PDF: ['10.1093/nar/gkh931']\n"
     ]
    }
   ],
   "source": [
    "import pdfplumber\n",
    "import re\n",
    "\n",
    "def extract_dois_from_pdf(pdf_file_path):\n",
    "    dois = []\n",
    "    with pdfplumber.open(pdf_file_path) as pdf:\n",
    "        for page in pdf.pages:\n",
    "            text = page.extract_text()\n",
    "            # Use regex to find DOI patterns\n",
    "            doi_matches = re.findall(r'\\bdoi:(\\S+)\\b', text, re.IGNORECASE)\n",
    "            for match in doi_matches:\n",
    "                dois.append(match)\n",
    "    return dois\n",
    "\n",
    "# Example usage:\n",
    "pdf_file_path = \"001.nar-6047.full.pdf\"  # Replace with the path to your PDF file\n",
    "dois = extract_dois_from_pdf(pdf_file_path)\n",
    "print(\"DOI numbers found in the PDF:\", dois)"
   ]
  },
  {
   "cell_type": "code",
   "execution_count": null,
   "id": "c5f9e5eb-1201-42f7-b3f7-4c05117c2d67",
   "metadata": {},
   "outputs": [],
   "source": []
  }
 ],
 "metadata": {
  "kernelspec": {
   "display_name": "Python 3 (ipykernel)",
   "language": "python",
   "name": "python3"
  },
  "language_info": {
   "codemirror_mode": {
    "name": "ipython",
    "version": 3
   },
   "file_extension": ".py",
   "mimetype": "text/x-python",
   "name": "python",
   "nbconvert_exporter": "python",
   "pygments_lexer": "ipython3",
   "version": "3.12.2"
  }
 },
 "nbformat": 4,
 "nbformat_minor": 5
}
